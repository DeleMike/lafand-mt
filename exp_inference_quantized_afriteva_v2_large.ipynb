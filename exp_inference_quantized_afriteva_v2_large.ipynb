{
 "cells": [
  {
   "cell_type": "code",
   "execution_count": 1,
   "metadata": {},
   "outputs": [
    {
     "name": "stdout",
     "output_type": "stream",
     "text": [
      "Requirement already satisfied: tqdm in /home/ubuntu/miniconda3/lib/python3.11/site-packages (4.65.0)\n",
      "\n",
      "\u001b[1m[\u001b[0m\u001b[34;49mnotice\u001b[0m\u001b[1;39;49m]\u001b[0m\u001b[39;49m A new release of pip is available: \u001b[0m\u001b[31;49m23.3.1\u001b[0m\u001b[39;49m -> \u001b[0m\u001b[32;49m24.0\u001b[0m\n",
      "\u001b[1m[\u001b[0m\u001b[34;49mnotice\u001b[0m\u001b[1;39;49m]\u001b[0m\u001b[39;49m To update, run: \u001b[0m\u001b[32;49mpip install --upgrade pip\u001b[0m\n",
      "Note: you may need to restart the kernel to use updated packages.\n"
     ]
    }
   ],
   "source": [
    "%pip install tqdm"
   ]
  },
  {
   "cell_type": "code",
   "execution_count": 2,
   "metadata": {},
   "outputs": [
    {
     "name": "stderr",
     "output_type": "stream",
     "text": [
      "/home/ubuntu/miniconda3/lib/python3.11/site-packages/tqdm/auto.py:21: TqdmWarning: IProgress not found. Please update jupyter and ipywidgets. See https://ipywidgets.readthedocs.io/en/stable/user_install.html\n",
      "  from .autonotebook import tqdm as notebook_tqdm\n",
      "2024-02-04 14:19:49.224209: I tensorflow/core/util/port.cc:113] oneDNN custom operations are on. You may see slightly different numerical results due to floating-point round-off errors from different computation orders. To turn them off, set the environment variable `TF_ENABLE_ONEDNN_OPTS=0`.\n",
      "2024-02-04 14:19:49.258337: I tensorflow/core/platform/cpu_feature_guard.cc:182] This TensorFlow binary is optimized to use available CPU instructions in performance-critical operations.\n",
      "To enable the following instructions: AVX2 AVX512F AVX512_VNNI FMA, in other operations, rebuild TensorFlow with the appropriate compiler flags.\n"
     ]
    }
   ],
   "source": [
    "from transformers import AutoTokenizer, pipeline, PretrainedConfig\n",
    "from optimum.onnxruntime import ORTModelForSeq2SeqLM\n",
    "import onnxruntime"
   ]
  },
  {
   "cell_type": "code",
   "execution_count": 3,
   "metadata": {},
   "outputs": [],
   "source": [
    "# Load encoder model\n",
    "encoder_session = onnxruntime.InferenceSession('quantized_afriteva_v2_large_unyo_dcyo_mix_onnx/encoder_model_quantized.onnx')\n",
    "\n",
    "# Load decoder model\n",
    "decoder_session = onnxruntime.InferenceSession('quantized_afriteva_v2_large_unyo_dcyo_mix_onnx/decoder_model_quantized.onnx')"
   ]
  },
  {
   "cell_type": "code",
   "execution_count": 4,
   "metadata": {},
   "outputs": [],
   "source": [
    "model_id = \"quantized_afriteva_v2_large_unyo_dcyo_mix_onnx\"\n",
    "tokenizer = AutoTokenizer.from_pretrained(model_id)"
   ]
  },
  {
   "cell_type": "code",
   "execution_count": 5,
   "metadata": {},
   "outputs": [],
   "source": [
    "config = PretrainedConfig.from_json_file('quantized_afriteva_v2_large_unyo_dcyo_mix_onnx/config.json')"
   ]
  },
  {
   "cell_type": "code",
   "execution_count": 6,
   "metadata": {},
   "outputs": [],
   "source": [
    "model = ORTModelForSeq2SeqLM(\n",
    "    config=config,\n",
    "    onnx_paths=['quantized_afriteva_v2_large_unyo_dcyo_mix_onnx/decoder_model_quantized.onnx','quantized_afriteva_v2_large_unyo_dcyo_mix_onnx/encoder_model_quantized.onnx'],\n",
    "    encoder_session=encoder_session, \n",
    "    decoder_session=decoder_session, \n",
    "    model_save_dir='quantized_afriteva_v2_large_unyo_dcyo_mix_onnx',\n",
    "    use_cache=False, \n",
    ")"
   ]
  },
  {
   "cell_type": "code",
   "execution_count": 7,
   "metadata": {},
   "outputs": [],
   "source": [
    "onnx_translation = pipeline(\"translation_unyo_to_dcyo\", model=model, tokenizer=tokenizer)"
   ]
  },
  {
   "cell_type": "code",
   "execution_count": 8,
   "metadata": {},
   "outputs": [],
   "source": [
    "text_that_work_1 = \"Bi a ba lo osuwon iseda, gbogbo gbolohun ede Yoruba ni a le pin si meji ni gbooro bayii\"\n",
    "text_that_work_2 = \"Nje omo naa ni owo?\""
   ]
  },
  {
   "cell_type": "code",
   "execution_count": 8,
   "metadata": {},
   "outputs": [
    {
     "data": {
      "text/plain": [
       "[{'translation_text': 'ǹkan'}]"
      ]
     },
     "execution_count": 8,
     "metadata": {},
     "output_type": "execute_result"
    }
   ],
   "source": [
    "# olorun oba o, ese o\n",
    "# text = \"Nje omo naa ni owo?\" # mo lo si ile\n",
    "# text = 'Ijoba orileede Naijiria ni ijoba China lo n koju aarun korona kii se pe won koriira tabi saida si omo Naijiria tabi alawodudu to n gbe Guangzhou ni China'\n",
    "# text = 'Ijoba orileede Naijiria ni ijoba China lo n koju aarun korona'\n",
    "# text = 'A ki i binu ori ka fi fila de ibadi.'\n",
    "# text = 'mo fe jeun'\n",
    "result = onnx_translation(text, max_length = 10000)\n",
    "result"
   ]
  },
  {
   "cell_type": "code",
   "execution_count": null,
   "metadata": {},
   "outputs": [],
   "source": []
  },
  {
   "cell_type": "code",
   "execution_count": null,
   "metadata": {},
   "outputs": [],
   "source": []
  }
 ],
 "metadata": {
  "kernelspec": {
   "display_name": "base",
   "language": "python",
   "name": "python3"
  },
  "language_info": {
   "codemirror_mode": {
    "name": "ipython",
    "version": 3
   },
   "file_extension": ".py",
   "mimetype": "text/x-python",
   "name": "python",
   "nbconvert_exporter": "python",
   "pygments_lexer": "ipython3",
   "version": "3.11.4"
  }
 },
 "nbformat": 4,
 "nbformat_minor": 2
}
